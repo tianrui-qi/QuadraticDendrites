{
 "cells": [
  {
   "cell_type": "code",
   "execution_count": null,
   "metadata": {
    "collapsed": true,
    "pycharm": {
     "name": "#%%\n"
    }
   },
   "outputs": [],
   "source": [
    "from Gaussian import Gaussian\n",
    "from EM import EM\n",
    "from NN import NN\n",
    "import numpy as np\n",
    "import matplotlib.pyplot as plt\n",
    "import matplotlib.patches as mp\n",
    "\n",
    "# basic parameters\n",
    "D = 2     # dimension of sample data point\n",
    "K = 3     # number of Gaussian / classifications\n",
    "\n",
    "# parameters for neural networks\n",
    "neuron_1     = {0: K}\n",
    "neuron_2_10  = {0: 10, 1: K}\n",
    "neuron_2_100 = {0: 100, 1: K}\n",
    "\n",
    "# train\n",
    "method = NN(D, neuron_2_10, network_type=\"QNN\")\n",
    "# method = NN(D, neuron_1, NN_type=\"CNN\")\n",
    "\n",
    "\n",
    "#method.train(G.train_point, G.train_label, G.valid_point, G.valid_label)"
   ]
  }
 ],
 "metadata": {
  "kernelspec": {
   "display_name": "Python 3",
   "language": "python",
   "name": "python3"
  },
  "language_info": {
   "codemirror_mode": {
    "name": "ipython",
    "version": 2
   },
   "file_extension": ".py",
   "mimetype": "text/x-python",
   "name": "python",
   "nbconvert_exporter": "python",
   "pygments_lexer": "ipython2",
   "version": "2.7.6"
  }
 },
 "nbformat": 4,
 "nbformat_minor": 0
}