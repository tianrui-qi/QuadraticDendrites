{
 "cells": [
  {
   "cell_type": "code",
   "execution_count": 1,
   "metadata": {
    "collapsed": true,
    "pycharm": {
     "name": "#%%\n"
    }
   },
   "outputs": [],
   "source": [
    "import torch\n",
    "import torch.nn as nn\n",
    "import torchvision\n",
    "import torchvision.transforms as transforms\n",
    "from model import (QuadraticNN1, QuadraticNN2)\n",
    "\n",
    "# Train the model\n",
    "device = torch.device('cuda' if torch.cuda.is_available() else 'cpu')\n",
    "# Hyper-parameters\n",
    "input_size = 784\n",
    "hidden_size = 500\n",
    "num_classes = 10\n",
    "num_epochs = 5\n",
    "batch_size = 100\n",
    "learning_rate = 0.001\n",
    "\n",
    "# MNIST dataset\n",
    "train_dataset = torchvision.datasets.MNIST(root='../../data',\n",
    "                                           train=True,\n",
    "                                           transform=transforms.ToTensor(),\n",
    "                                           download=True)\n",
    "\n",
    "test_dataset = torchvision.datasets.MNIST(root='../../data',\n",
    "                                          train=False,\n",
    "                                          transform=transforms.ToTensor())\n",
    "\n",
    "# Data loader\n",
    "train_loader = torch.utils.data.DataLoader(dataset=train_dataset,\n",
    "                                           batch_size=batch_size,\n",
    "                                           shuffle=True)\n",
    "\n",
    "test_loader = torch.utils.data.DataLoader(dataset=test_dataset,\n",
    "                                          batch_size=batch_size,\n",
    "                                          shuffle=False)"
   ]
  },
  {
   "cell_type": "code",
   "execution_count": 5,
   "outputs": [
    {
     "name": "stdout",
     "output_type": "stream",
     "text": [
      "QuadraticNN(\n",
      "  (fc1): QuadraticNeurons(in_features=784, out_features=500)\n",
      "  (relu): ReLU()\n",
      "  (fc2): QuadraticNeurons(in_features=500, out_features=10)\n",
      ")\n"
     ]
    }
   ],
   "source": [
    "model = QuadraticNN2(input_size, hidden_size, num_classes)\n",
    "print(model)\n",
    "\n",
    "optimizer = torch.optim.Adam(model.parameters(), lr=0.01)\n",
    "criterion = nn.CrossEntropyLoss()"
   ],
   "metadata": {
    "collapsed": false,
    "pycharm": {
     "name": "#%%\n"
    }
   }
  },
  {
   "cell_type": "code",
   "execution_count": 6,
   "outputs": [
    {
     "name": "stdout",
     "output_type": "stream",
     "text": [
      "Epoch [1/5], Step [100/600], Loss: 7.9254\n",
      "Epoch [1/5], Step [200/600], Loss: 4.1474\n",
      "Epoch [1/5], Step [300/600], Loss: 3.3124\n",
      "Epoch [1/5], Step [400/600], Loss: 0.4252\n",
      "Epoch [1/5], Step [500/600], Loss: 0.8328\n",
      "Epoch [1/5], Step [600/600], Loss: 1.3506\n",
      "Epoch [2/5], Step [100/600], Loss: 0.4058\n",
      "Epoch [2/5], Step [200/600], Loss: 0.6539\n",
      "Epoch [2/5], Step [300/600], Loss: 0.5484\n",
      "Epoch [2/5], Step [400/600], Loss: 0.3063\n",
      "Epoch [2/5], Step [500/600], Loss: 0.8173\n",
      "Epoch [2/5], Step [600/600], Loss: 0.2326\n",
      "Epoch [3/5], Step [100/600], Loss: 0.1134\n",
      "Epoch [3/5], Step [200/600], Loss: 0.1365\n",
      "Epoch [3/5], Step [300/600], Loss: 0.1301\n",
      "Epoch [3/5], Step [400/600], Loss: 0.3692\n",
      "Epoch [3/5], Step [500/600], Loss: 0.3086\n",
      "Epoch [3/5], Step [600/600], Loss: 0.1390\n",
      "Epoch [4/5], Step [100/600], Loss: 0.1394\n",
      "Epoch [4/5], Step [200/600], Loss: 0.0535\n",
      "Epoch [4/5], Step [300/600], Loss: 0.0858\n",
      "Epoch [4/5], Step [400/600], Loss: 0.6308\n",
      "Epoch [4/5], Step [500/600], Loss: 0.0456\n",
      "Epoch [4/5], Step [600/600], Loss: 0.2361\n",
      "Epoch [5/5], Step [100/600], Loss: 0.1674\n",
      "Epoch [5/5], Step [200/600], Loss: 0.8877\n",
      "Epoch [5/5], Step [300/600], Loss: 0.5954\n",
      "Epoch [5/5], Step [400/600], Loss: 0.2423\n",
      "Epoch [5/5], Step [500/600], Loss: 0.4478\n",
      "Epoch [5/5], Step [600/600], Loss: 0.2574\n"
     ]
    }
   ],
   "source": [
    "total_step = len(train_loader)\n",
    "for epoch in range(num_epochs):\n",
    "    for i, (images, labels) in enumerate(train_loader):\n",
    "        # Move tensors to the configured device\n",
    "        images = images.reshape(-1, 28*28).to(device)\n",
    "        labels = labels.to(device)\n",
    "\n",
    "        # Forward pass\n",
    "        outputs = model(images)\n",
    "        loss = criterion(outputs, labels)\n",
    "\n",
    "        # Backward and optimize\n",
    "        optimizer.zero_grad()\n",
    "        loss.backward()\n",
    "        optimizer.step()\n",
    "\n",
    "        if (i+1) % 100 == 0:\n",
    "            print ('Epoch [{}/{}], Step [{}/{}], Loss: {:.4f}'\n",
    "                   .format(epoch+1, num_epochs, i+1, total_step, loss.item()))"
   ],
   "metadata": {
    "collapsed": false,
    "pycharm": {
     "name": "#%%\n"
    }
   }
  },
  {
   "cell_type": "code",
   "execution_count": 7,
   "outputs": [
    {
     "name": "stdout",
     "output_type": "stream",
     "text": [
      "Accuracy of the network on the 10000 test images: 93.58 %\n"
     ]
    }
   ],
   "source": [
    "# Test the model\n",
    "# In test phase, we don't need to compute gradients (for memory efficiency)\n",
    "with torch.no_grad():\n",
    "    correct = 0\n",
    "    total = 0\n",
    "    for images, labels in test_loader:\n",
    "        images = images.reshape(-1, 28*28).to(device)\n",
    "        labels = labels.to(device)\n",
    "        outputs = model(images)\n",
    "        _, predicted = torch.max(outputs.data, 1)\n",
    "        total += labels.size(0)\n",
    "        correct += (predicted == labels).sum().item()\n",
    "\n",
    "    print('Accuracy of the network on the 10000 test images: {} %'.format(100 * correct / total))"
   ],
   "metadata": {
    "collapsed": false,
    "pycharm": {
     "name": "#%%\n"
    }
   }
  }
 ],
 "metadata": {
  "kernelspec": {
   "display_name": "Python 3",
   "language": "python",
   "name": "python3"
  },
  "language_info": {
   "codemirror_mode": {
    "name": "ipython",
    "version": 2
   },
   "file_extension": ".py",
   "mimetype": "text/x-python",
   "name": "python",
   "nbconvert_exporter": "python",
   "pygments_lexer": "ipython2",
   "version": "2.7.6"
  }
 },
 "nbformat": 4,
 "nbformat_minor": 0
}